{
 "cells": [
  {
   "cell_type": "markdown",
   "id": "58b09344-1336-4626-a1e3-ec1f1f469185",
   "metadata": {},
   "source": [
    "<h1>Data Science Tools And Ecosystem<h1>"
   ]
  },
  {
   "cell_type": "markdown",
   "id": "766fe5ba-4b4f-4808-b953-2c666314b070",
   "metadata": {},
   "source": [
    "In this notebook, Data Science Tools and Ecosystem are summarized."
   ]
  },
  {
   "cell_type": "markdown",
   "id": "9fc08e6d-31d9-4df2-b76e-c83857d61bf5",
   "metadata": {},
   "source": [
    "Some of the popular languages that Data Scientists use are:\n",
    "1. Python\n",
    "2. R\n",
    "3. Java"
   ]
  },
  {
   "cell_type": "markdown",
   "id": "129d4a9b-e241-4f9e-b1d5-a6b8d0a18c21",
   "metadata": {},
   "source": [
    "Some of the commonly used libraries used by Data Scientists include:\n",
    "1. Numpy\n",
    "2. Matplotlib\n",
    "3. Pandas"
   ]
  },
  {
   "cell_type": "markdown",
   "id": "3706e59f-628b-4851-926f-c12ff3550274",
   "metadata": {},
   "source": [
    "| Data Science Tools |\n",
    "|-----|\n",
    "| Apache Spark |\n",
    "| Apache Hadoop |\n",
    "| Tensor Flow |"
   ]
  },
  {
   "cell_type": "markdown",
   "id": "13fb9649-3e0d-4e2d-9e5d-333d49d0aa8c",
   "metadata": {},
   "source": [
    "<h3>Below are a few examples of evaluating arithmetic expressions in Python</h3>"
   ]
  },
  {
   "cell_type": "code",
   "execution_count": 3,
   "id": "8d5b9b75-a03b-4cc4-8b58-da5f5062f260",
   "metadata": {},
   "outputs": [
    {
     "data": {
      "text/plain": [
       "17"
      ]
     },
     "execution_count": 3,
     "metadata": {},
     "output_type": "execute_result"
    }
   ],
   "source": [
    "#This is a simple arithmetic expression to multiply and then add integers.\n",
    "(3*4)+5"
   ]
  },
  {
   "cell_type": "code",
   "execution_count": 5,
   "id": "b34bd287-e7d7-45e3-ab60-fe19457a4381",
   "metadata": {},
   "outputs": [
    {
     "name": "stdout",
     "output_type": "stream",
     "text": [
      "200 minutes\n",
      "3.3333333333333335 hours\n"
     ]
    }
   ],
   "source": [
    "minutes = 200\n",
    "print(minutes, 'minutes')\n",
    "print(minutes/60, 'hours')"
   ]
  },
  {
   "cell_type": "markdown",
   "id": "7a779373-603b-4db7-9946-e48de780df3f",
   "metadata": {},
   "source": [
    "<b>Objectives:<b>\n",
    "- List popular languages for Data Science.\n",
    "- Knowing about the evaluation of arithmetic expressions in Python.\n",
    "- List commonly used libraries used by Data Scientists."
   ]
  },
  {
   "cell_type": "markdown",
   "id": "7a242aa4-90e9-4901-a77c-c1c59c606130",
   "metadata": {},
   "source": [
    "<h2>Author</h2>\n",
    "Tarun Dhoka"
   ]
  },
  {
   "cell_type": "code",
   "execution_count": null,
   "id": "ba8f9f04-6703-4032-86f0-f253914b5fd4",
   "metadata": {},
   "outputs": [],
   "source": []
  }
 ],
 "metadata": {
  "kernelspec": {
   "display_name": "Python 3 (ipykernel)",
   "language": "python",
   "name": "python3"
  },
  "language_info": {
   "codemirror_mode": {
    "name": "ipython",
    "version": 3
   },
   "file_extension": ".py",
   "mimetype": "text/x-python",
   "name": "python",
   "nbconvert_exporter": "python",
   "pygments_lexer": "ipython3",
   "version": "3.11.7"
  }
 },
 "nbformat": 4,
 "nbformat_minor": 5
}
